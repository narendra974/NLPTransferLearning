{
  "nbformat": 4,
  "nbformat_minor": 0,
  "metadata": {
    "colab": {
      "provenance": [],
      "machine_shape": "hm",
      "authorship_tag": "ABX9TyPf4hPXlUktW9HO8osJyZ2v",
      "include_colab_link": true
    },
    "kernelspec": {
      "name": "python3",
      "display_name": "Python 3"
    },
    "language_info": {
      "name": "python"
    },
    "accelerator": "TPU"
  },
  "cells": [
    {
      "cell_type": "markdown",
      "metadata": {
        "id": "view-in-github",
        "colab_type": "text"
      },
      "source": [
        "<a href=\"https://colab.research.google.com/github/narendra974/NLPTransferLearning/blob/main/Deu_Gen_NMT.ipynb\" target=\"_parent\"><img src=\"https://colab.research.google.com/assets/colab-badge.svg\" alt=\"Open In Colab\"/></a>"
      ]
    },
    {
      "cell_type": "code",
      "execution_count": 1,
      "metadata": {
        "colab": {
          "base_uri": "https://localhost:8080/"
        },
        "id": "9u9IfFnkQ4Bu",
        "outputId": "cf1e813c-a0a3-45d5-b72a-17c8f2373bc4"
      },
      "outputs": [
        {
          "output_type": "stream",
          "name": "stdout",
          "text": [
            "Mounted at /content/drive\n"
          ]
        }
      ],
      "source": [
        "from google.colab import drive\n",
        "drive.mount('/content/drive')"
      ]
    },
    {
      "cell_type": "code",
      "source": [
        "%cd /content/drive/MyDrive/DATASETS/ENG_DEU_DATA/"
      ],
      "metadata": {
        "colab": {
          "base_uri": "https://localhost:8080/"
        },
        "id": "mXFYI2JwV7ZG",
        "outputId": "14578a50-8824-464a-916b-e7f41650cc3b"
      },
      "execution_count": 2,
      "outputs": [
        {
          "output_type": "stream",
          "name": "stdout",
          "text": [
            "/content/drive/MyDrive/DATASETS/ENG_DEU_DATA\n"
          ]
        }
      ]
    },
    {
      "cell_type": "code",
      "source": [
        "%ls"
      ],
      "metadata": {
        "colab": {
          "base_uri": "https://localhost:8080/"
        },
        "id": "9E8V47byWefE",
        "outputId": "1b984713-c697-424a-b63e-fcec3bd2b67a"
      },
      "execution_count": 3,
      "outputs": [
        {
          "output_type": "stream",
          "name": "stdout",
          "text": [
            "commoncrawl_de_en.txt  europarl-v7_de_en.txt  news-commentary-v9_de_en.txt\n",
            "commoncrawl_en_de.txt  europarl-v7_en_de.txt  news-commentary-v9_en_de.txt\n"
          ]
        }
      ]
    },
    {
      "cell_type": "code",
      "source": [
        "import pandas as pd\n",
        "\n",
        "def file_to_df(filename):\n",
        "  with open(filename, \"rb\") as file_open:\n",
        "    lines = file_open.readlines()\n",
        "\n",
        "  return pd.DataFrame(lines)"
      ],
      "metadata": {
        "id": "kpx99O1d_b8-"
      },
      "execution_count": 4,
      "outputs": []
    },
    {
      "cell_type": "code",
      "source": [
        "df_cc_de = file_to_df(\"commoncrawl_de_en.txt\")\n",
        "df_cc_en = file_to_df(\"commoncrawl_en_de.txt\")\n",
        "df_eu_de = file_to_df(\"europarl-v7_de_en.txt\")\n",
        "df_eu_en = file_to_df(\"europarl-v7_en_de.txt\")\n",
        "df_nc_de = file_to_df(\"news-commentary-v9_de_en.txt\")\n",
        "df_nc_en = file_to_df(\"news-commentary-v9_en_de.txt\")"
      ],
      "metadata": {
        "id": "khsm22Ee1Frx"
      },
      "execution_count": 5,
      "outputs": []
    },
    {
      "cell_type": "code",
      "source": [
        "print(df_cc_de.shape)\n",
        "print(df_cc_en.shape)\n",
        "print(df_eu_de.shape)\n",
        "print(df_eu_en.shape)\n",
        "print(df_nc_de.shape)\n",
        "print(df_nc_en.shape)"
      ],
      "metadata": {
        "colab": {
          "base_uri": "https://localhost:8080/"
        },
        "id": "yIxJzTX1wKt0",
        "outputId": "662197d4-274f-4bae-8e68-e3564850bb68"
      },
      "execution_count": 6,
      "outputs": [
        {
          "output_type": "stream",
          "name": "stdout",
          "text": [
            "(2399123, 1)\n",
            "(2399123, 1)\n",
            "(1920209, 1)\n",
            "(1920209, 1)\n",
            "(201288, 1)\n",
            "(201288, 1)\n"
          ]
        }
      ]
    },
    {
      "cell_type": "code",
      "source": [
        "data_de = pd.concat([df_cc_de, df_eu_de, df_nc_de], axis=0)\n",
        "data_en = pd.concat([df_cc_en, df_eu_en, df_nc_en], axis=0)\n",
        "print(data_de.shape)\n",
        "print(data_en.shape)"
      ],
      "metadata": {
        "colab": {
          "base_uri": "https://localhost:8080/"
        },
        "id": "HWcALg6qCRAf",
        "outputId": "9f3d60b1-e95c-4a54-db3c-0d1459e8bafe"
      },
      "execution_count": 7,
      "outputs": [
        {
          "output_type": "stream",
          "name": "stdout",
          "text": [
            "(4520620, 1)\n",
            "(4520620, 1)\n"
          ]
        }
      ]
    },
    {
      "cell_type": "code",
      "source": [
        "data_de.columns = [\"German\"]\n",
        "data_en.columns = [\"English\"]\n",
        "print(data_de.columns)\n",
        "print(data_en.columns)"
      ],
      "metadata": {
        "colab": {
          "base_uri": "https://localhost:8080/"
        },
        "id": "b1y5PUxmC-ng",
        "outputId": "d313677d-ca89-47fc-c79c-b46453e9aedb"
      },
      "execution_count": 8,
      "outputs": [
        {
          "output_type": "stream",
          "name": "stdout",
          "text": [
            "Index(['German'], dtype='object')\n",
            "Index(['English'], dtype='object')\n"
          ]
        }
      ]
    },
    {
      "cell_type": "code",
      "source": [
        "data_de[\"German\"] = data_de[\"German\"].str.decode(\"utf-8\")\n",
        "data_en[\"English\"] = data_en[\"English\"].str.decode(\"utf-8\")"
      ],
      "metadata": {
        "id": "X9xWzj1hLbMF"
      },
      "execution_count": 9,
      "outputs": []
    },
    {
      "cell_type": "code",
      "source": [
        "max_seq_len = 2048"
      ],
      "metadata": {
        "id": "l9i2lNiafyh9"
      },
      "execution_count": 10,
      "outputs": []
    },
    {
      "cell_type": "code",
      "source": [
        "import re\n",
        "\n",
        "def clean_text(text):\n",
        "    text = text.lower()\n",
        "    pattern = re.compile('\\W')\n",
        "    text = re.sub(pattern,' ',text).strip()\n",
        "    return text"
      ],
      "metadata": {
        "id": "fqfv31mYf6MN"
      },
      "execution_count": 11,
      "outputs": []
    },
    {
      "cell_type": "code",
      "source": [
        "data_en.English = data_en.English.apply(clean_text)\n",
        "data_de.German = data_de.German.apply(clean_text)"
      ],
      "metadata": {
        "id": "dKVlecPBgTve"
      },
      "execution_count": 12,
      "outputs": []
    },
    {
      "cell_type": "code",
      "source": [
        "data_de.German = data_de.German.apply(lambda x: '<START> ' + x + ' <END>')"
      ],
      "metadata": {
        "id": "UokelxWZhiem"
      },
      "execution_count": 13,
      "outputs": []
    },
    {
      "cell_type": "code",
      "source": [
        "from tensorflow.keras.preprocessing.text import Tokenizer\n",
        "from tensorflow.keras.preprocessing.sequence import pad_sequences\n",
        "\n",
        "eng_tokenizer = Tokenizer()\n",
        "eng_tokenizer.fit_on_texts(data_en.English)\n",
        "eng_vocab_size = len(eng_tokenizer.word_index) + 1\n",
        "eng_sequences = eng_tokenizer.texts_to_sequences(data_en.English)\n",
        "eng_pad_sequences = pad_sequences(eng_sequences,maxlen=max_seq_len, dtype='int32', padding='post', truncating='post')"
      ],
      "metadata": {
        "id": "hQ6sfaSNiDsq"
      },
      "execution_count": null,
      "outputs": []
    },
    {
      "cell_type": "code",
      "source": [
        "ger_tokenizer = Tokenizer()\n",
        "ger_tokenizer.fit_on_texts(data_de.German)\n",
        "ger_vocab_size = len(ger_tokenizer.word_index) + 1\n",
        "ger_sequences = ger_tokenizer.texts_to_sequences(data_de.German)\n",
        "ger_pad_sequences = pad_sequences(ger_sequences,maxlen=max_seq_len, dtype='int32', padding='post', truncating='post')"
      ],
      "metadata": {
        "id": "3nvEmwIfmHLd"
      },
      "execution_count": null,
      "outputs": []
    }
  ]
}