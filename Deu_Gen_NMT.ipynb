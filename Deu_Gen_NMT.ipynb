{
  "nbformat": 4,
  "nbformat_minor": 0,
  "metadata": {
    "colab": {
      "provenance": [],
      "authorship_tag": "ABX9TyNnBRJhed9GQx6DZMkH02PR",
      "include_colab_link": true
    },
    "kernelspec": {
      "name": "python3",
      "display_name": "Python 3"
    },
    "language_info": {
      "name": "python"
    }
  },
  "cells": [
    {
      "cell_type": "markdown",
      "metadata": {
        "id": "view-in-github",
        "colab_type": "text"
      },
      "source": [
        "<a href=\"https://colab.research.google.com/github/narendra974/NLPTransferLearning/blob/main/Deu_Gen_NMT.ipynb\" target=\"_parent\"><img src=\"https://colab.research.google.com/assets/colab-badge.svg\" alt=\"Open In Colab\"/></a>"
      ]
    },
    {
      "cell_type": "code",
      "execution_count": 1,
      "metadata": {
        "colab": {
          "base_uri": "https://localhost:8080/"
        },
        "id": "9u9IfFnkQ4Bu",
        "outputId": "031a1149-1d6b-4753-8608-8989b02dd07e"
      },
      "outputs": [
        {
          "output_type": "stream",
          "name": "stdout",
          "text": [
            "Drive already mounted at /content/drive; to attempt to forcibly remount, call drive.mount(\"/content/drive\", force_remount=True).\n"
          ]
        }
      ],
      "source": [
        "from google.colab import drive\n",
        "drive.mount('/content/drive')"
      ]
    },
    {
      "cell_type": "code",
      "source": [
        "%cd /content/drive/MyDrive/DATASETS/ENG_DEU_DATA/"
      ],
      "metadata": {
        "colab": {
          "base_uri": "https://localhost:8080/"
        },
        "id": "mXFYI2JwV7ZG",
        "outputId": "ce2161d4-ab3a-456f-cdb9-cf1364a5a155"
      },
      "execution_count": 2,
      "outputs": [
        {
          "output_type": "stream",
          "name": "stdout",
          "text": [
            "/content/drive/MyDrive/DATASETS/ENG_DEU_DATA\n"
          ]
        }
      ]
    },
    {
      "cell_type": "code",
      "source": [
        "%ls"
      ],
      "metadata": {
        "colab": {
          "base_uri": "https://localhost:8080/"
        },
        "id": "9E8V47byWefE",
        "outputId": "dea7df44-a4db-4ac8-f191-858f3cf4b87e"
      },
      "execution_count": 3,
      "outputs": [
        {
          "output_type": "stream",
          "name": "stdout",
          "text": [
            "commoncrawl_de_en.txt  europarl-v7_de_en.txt  news-commentary-v9_de_en.txt\n",
            "commoncrawl_en_de.txt  europarl-v7_en_de.txt  news-commentary-v9_en_de.txt\n"
          ]
        }
      ]
    },
    {
      "cell_type": "code",
      "source": [
        "import pandas as pd\n",
        "\n",
        "def file_to_df(filename):\n",
        "  with open(filename, \"rb\") as file_open:\n",
        "    lines = file_open.readlines()\n",
        "\n",
        "  return pd.DataFrame(lines)"
      ],
      "metadata": {
        "id": "kpx99O1d_b8-"
      },
      "execution_count": 14,
      "outputs": []
    },
    {
      "cell_type": "code",
      "source": [
        "df_cc_de = file_to_df(\"commoncrawl_de_en.txt\")\n",
        "df_cc_en = file_to_df(\"commoncrawl_en_de.txt\")\n",
        "df_eu_de = file_to_df(\"europarl-v7_de_en.txt\")\n",
        "df_eu_en = file_to_df(\"europarl-v7_en_de.txt\")\n",
        "df_nc_de = file_to_df(\"news-commentary-v9_de_en.txt\")\n",
        "df_nc_en = file_to_df(\"news-commentary-v9_en_de.txt\")"
      ],
      "metadata": {
        "id": "khsm22Ee1Frx"
      },
      "execution_count": 15,
      "outputs": []
    },
    {
      "cell_type": "code",
      "source": [
        "print(df_cc_de.shape)\n",
        "print(df_cc_en.shape)\n",
        "print(df_eu_de.shape)\n",
        "print(df_eu_en.shape)\n",
        "print(df_nc_de.shape)\n",
        "print(df_nc_en.shape)"
      ],
      "metadata": {
        "colab": {
          "base_uri": "https://localhost:8080/"
        },
        "id": "yIxJzTX1wKt0",
        "outputId": "b9b4bf4e-7054-4f43-845d-dda9730d1455"
      },
      "execution_count": 16,
      "outputs": [
        {
          "output_type": "stream",
          "name": "stdout",
          "text": [
            "(2399123, 1)\n",
            "(2399123, 1)\n",
            "(1920209, 1)\n",
            "(1920209, 1)\n",
            "(201288, 1)\n",
            "(201288, 1)\n"
          ]
        }
      ]
    },
    {
      "cell_type": "code",
      "source": [
        "data_de = pd.concat([df_cc_de, df_eu_de, df_nc_de], axis=0)\n",
        "data_de.shape"
      ],
      "metadata": {
        "colab": {
          "base_uri": "https://localhost:8080/"
        },
        "id": "HWcALg6qCRAf",
        "outputId": "c417a18a-1f59-487b-b367-0a3f16f28478"
      },
      "execution_count": 8,
      "outputs": [
        {
          "output_type": "execute_result",
          "data": {
            "text/plain": [
              "(4521186, 1)"
            ]
          },
          "metadata": {},
          "execution_count": 8
        }
      ]
    },
    {
      "cell_type": "code",
      "source": [
        "data_en = pd.concat([df_cc_en, df_eu_en, df_nc_en], axis=0)\n",
        "data_en.shape"
      ],
      "metadata": {
        "colab": {
          "base_uri": "https://localhost:8080/"
        },
        "id": "b1y5PUxmC-ng",
        "outputId": "6173bee4-4ce0-4f86-8068-579e9cb91467"
      },
      "execution_count": 9,
      "outputs": [
        {
          "output_type": "execute_result",
          "data": {
            "text/plain": [
              "(4521327, 1)"
            ]
          },
          "metadata": {},
          "execution_count": 9
        }
      ]
    }
  ]
}